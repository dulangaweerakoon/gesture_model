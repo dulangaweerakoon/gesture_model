{
 "cells": [
  {
   "cell_type": "code",
   "execution_count": 1,
   "metadata": {},
   "outputs": [],
   "source": [
    "# import zipfile\n",
    "# with zipfile.ZipFile(\"first_50_test_set.zip\", 'r') as zip_ref:\n",
    "#     zip_ref.extractall(\"first_50_test_set\")"
   ]
  },
  {
   "cell_type": "code",
   "execution_count": 5,
   "metadata": {},
   "outputs": [],
   "source": [
    "# import tarfile\n",
    "# for i in range(51):\n",
    "#     tf = tarfile.open(\"depth_img/short_throw_depth_\"+str(i)+\".tar\")\n",
    "#     tf.extractall(\"depth_img/short_throw_depth_\"+str(i)+\"/\")"
   ]
  },
  {
   "cell_type": "code",
   "execution_count": 32,
   "metadata": {},
   "outputs": [],
   "source": [
    "%matplotlib inline\n",
    "\n",
    "import matplotlib\n",
    "import numpy as np\n",
    "import matplotlib.pyplot as plt\n",
    "import cv2\n",
    "import os\n",
    "import re\n",
    "import pandas as pd"
   ]
  },
  {
   "cell_type": "code",
   "execution_count": 33,
   "metadata": {},
   "outputs": [
    {
     "name": "stdout",
     "output_type": "stream",
     "text": [
      "(450, 448)\n",
      "[193, 111]\n"
     ]
    },
    {
     "data": {
      "text/plain": [
       "<matplotlib.image.AxesImage at 0x7f28074624e0>"
      ]
     },
     "execution_count": 33,
     "metadata": {},
     "output_type": "execute_result"
    },
    {
     "data": {
      "image/png": "[encoded data removed]",
      "text/plain": [
       "<Figure size 432x288 with 1 Axes>"
      ]
     },
     "metadata": {},
     "output_type": "display_data"
    }
   ],
   "source": [
    "#for i in range(7):\n",
    "img = cv2.imread(\"depth_img/short_throw_depth_0/\"+str(5)+\".pgm\")\n",
    "\n",
    "thresh1 = cv2.cvtColor(img, cv2.COLOR_BGR2GRAY)\n",
    "ret,thresh1 = cv2.threshold(thresh1,127,255,cv2.THRESH_BINARY)\n",
    "print(thresh1.shape)\n",
    "loc = None\n",
    "for i in range(0,thresh1.shape[0]):\n",
    "    vali = np.sum(thresh1[i,:])\n",
    "    if vali > 0:\n",
    "        for j in range(0,thresh1.shape[0]):\n",
    "            valj = thresh1[i,j]\n",
    "            if (valj>0):\n",
    "                loc = [j,i]\n",
    "                break\n",
    "        break\n",
    "cv2.circle(img,(loc[0],loc[1]), 10, (0,0,255), -1)\n",
    "print(loc)\n",
    "                \n",
    "plt.imshow(img)\n",
    "\n"
   ]
  },
  {
   "cell_type": "code",
   "execution_count": 54,
   "metadata": {},
   "outputs": [
    {
     "name": "stdout",
     "output_type": "stream",
     "text": [
      "[188.0, 138.0]\n",
      "{24: 9855, 38: 3487, 31: 1871, 40: 2997, 0: 19135, 43: 2997, 42: 31681, 4: 3096, 45: 2997, 46: 26143, 36: 17058, 41: 2997, 7: 2998, 28: 1871, 27: 1871, 9: 2998, 13: 2998, 26: 1871, 50: 26143, 25: 1871, 1: 19135, 5: 2998, 34: 1871, 2: 3096, 22: 9855, 14: 20160, 18: 9855, 44: 2997, 6: 2998, 32: 1871, 3: 27247, 8: 2998, 23: 9855, 29: 1871, 37: 6453, 12: 2998, 47: 26143, 49: 26143, 21: 9855, 33: 1871, 15: 37455, 10: 2998, 30: 1871, 11: 2998, 48: 1169, 16: 9855, 20: 9855, 19: 9855, 39: 2997, 35: 11536, 17: 37455}\n"
     ]
    },
    {
     "data": {
      "text/plain": [
       "[0.5, 0.5]"
      ]
     },
     "execution_count": 54,
     "metadata": {},
     "output_type": "execute_result"
    },
    {
     "data": {
      "image/png": "[encoded data removed]",
      "text/plain": [
       "<Figure size 432x288 with 1 Axes>"
      ]
     },
     "metadata": {},
     "output_type": "display_data"
    }
   ],
   "source": [
    "def find_hand(idx):\n",
    "    loc = [0,0]\n",
    "    len_ = 0\n",
    "    root_path = \"depth_img/short_throw_depth_\"\n",
    "    for file in os.listdir(root_path+str(idx)+\"/\"):\n",
    "        if not file.endswith(\".pgm\"):\n",
    "            continue\n",
    "        path = os.path.join(root_path+str(idx), file)\n",
    "        img = cv2.imread(path)\n",
    "        thresh1 = cv2.cvtColor(img, cv2.COLOR_BGR2GRAY)\n",
    "        ret,thresh1 = cv2.threshold(thresh1,127,255,cv2.THRESH_BINARY)\n",
    "        for i in range(0,thresh1.shape[0]):\n",
    "            vali = np.sum(thresh1[i,:])\n",
    "            if vali > 0:\n",
    "                for j in range(0,thresh1.shape[0]):\n",
    "                    valj = thresh1[i,j]\n",
    "                    if (valj>0):\n",
    "                        loc = [loc[0]+j,loc[1]+i]\n",
    "                        #print(j,i)\n",
    "                        cv2.circle(img,(j,i), 10, (0,0,255), -1)\n",
    "                        plt.imshow(img)\n",
    "                        break\n",
    "                break\n",
    "        len_+=1\n",
    "    loc = [loc[0]/float(len_),loc[1]/float(len_)]\n",
    "    return loc\n",
    "print(find_hand(30))\n",
    "\n",
    "\n",
    "def load_img_ids():\n",
    "    root_path = \"bbox_img/\"\n",
    "    id_dict = dict()\n",
    "    for file in os.listdir(root_path):\n",
    "        if not file.endswith(\".jpg\"):\n",
    "            continue\n",
    "        val = re.findall(r'\\d+',file)\n",
    "        id_dict[int(val[0])] = int(val[1])\n",
    "    return id_dict\n",
    "        \n",
    "id_dict = load_img_ids()\n",
    "print(id_dict)\n",
    "\n",
    "\n",
    "def find_gt(id_dict,idx):  \n",
    "    IMG_SIZE = [360,480]\n",
    "    annots = pd.read_csv(open('test.csv','r'))\n",
    "    img_id = id_dict[idx]\n",
    "    #print(img_id)\n",
    "    bbox_str = annots.iloc[idx, 1]\n",
    "    bboxes = re.findall(\"\\d+\\.\\d+\",bbox_str)\n",
    "    bboxes = list(map(float,bboxes))\n",
    "    gt = [(bboxes[0]+bboxes[2])/2,(bboxes[1]+bboxes[3])/2]\n",
    "    gt = [gt[0]/IMG_SIZE[1],gt[1]/IMG_SIZE[0]]\n",
    "    return gt\n",
    "\n",
    "def build_dataset(id_dict):\n",
    "    \n",
    "#build_dataset\n",
    "find_gt(id_dict,0)"
   ]
  },
  {
   "cell_type": "code",
   "execution_count": null,
   "metadata": {},
   "outputs": [],
   "source": []
  },
  {
   "cell_type": "code",
   "execution_count": null,
   "metadata": {},
   "outputs": [],
   "source": []
  }
 ],
 "metadata": {
  "kernelspec": {
   "display_name": "Python 3",
   "language": "python",
   "name": "python3"
  },
  "language_info": {
   "codemirror_mode": {
    "name": "ipython",
    "version": 3
   },
   "file_extension": ".py",
   "mimetype": "text/x-python",
   "name": "python",
   "nbconvert_exporter": "python",
   "pygments_lexer": "ipython3",
   "version": "3.6.9"
  }
 },
 "nbformat": 4,
 "nbformat_minor": 2
}
